{
  "nbformat": 4,
  "nbformat_minor": 0,
  "metadata": {
    "colab": {
      "name": "Untitled2.ipynb",
      "provenance": [],
      "authorship_tag": "ABX9TyMZFKGVQprFFom79OrgsqTh",
      "include_colab_link": true
    },
    "kernelspec": {
      "name": "python3",
      "display_name": "Python 3"
    },
    "language_info": {
      "name": "python"
    }
  },
  "cells": [
    {
      "cell_type": "markdown",
      "metadata": {
        "id": "view-in-github",
        "colab_type": "text"
      },
      "source": [
        "<a href=\"https://colab.research.google.com/github/siranggiting/test_first/blob/master/coba_colab_16-Sept.ipynb\" target=\"_parent\"><img src=\"https://colab.research.google.com/assets/colab-badge.svg\" alt=\"Open In Colab\"/></a>"
      ]
    },
    {
      "cell_type": "code",
      "metadata": {
        "colab": {
          "base_uri": "https://localhost:8080/"
        },
        "id": "-4w7I02fsooo",
        "outputId": "d692c847-313b-4414-965c-b0b994a03c82"
      },
      "source": [
        "!pip install TA-Lib"
      ],
      "execution_count": 2,
      "outputs": [
        {
          "output_type": "stream",
          "name": "stdout",
          "text": [
            "Collecting TA-Lib\n",
            "  Downloading TA-Lib-0.4.21.tar.gz (270 kB)\n",
            "\u001b[K     |████████████████████████████████| 270 kB 5.2 MB/s \n",
            "\u001b[?25hRequirement already satisfied: numpy in /usr/local/lib/python3.7/dist-packages (from TA-Lib) (1.19.5)\n",
            "Building wheels for collected packages: TA-Lib\n",
            "  Building wheel for TA-Lib (setup.py) ... \u001b[?25lerror\n",
            "\u001b[31m  ERROR: Failed building wheel for TA-Lib\u001b[0m\n",
            "\u001b[?25h  Running setup.py clean for TA-Lib\n",
            "Failed to build TA-Lib\n",
            "Installing collected packages: TA-Lib\n",
            "    Running setup.py install for TA-Lib ... \u001b[?25l\u001b[?25herror\n",
            "\u001b[31mERROR: Command errored out with exit status 1: /usr/bin/python3 -u -c 'import io, os, sys, setuptools, tokenize; sys.argv[0] = '\"'\"'/tmp/pip-install-cgyqlrj_/ta-lib_f6bb6021ca294087aaf04e28001c4ca3/setup.py'\"'\"'; __file__='\"'\"'/tmp/pip-install-cgyqlrj_/ta-lib_f6bb6021ca294087aaf04e28001c4ca3/setup.py'\"'\"';f = getattr(tokenize, '\"'\"'open'\"'\"', open)(__file__) if os.path.exists(__file__) else io.StringIO('\"'\"'from setuptools import setup; setup()'\"'\"');code = f.read().replace('\"'\"'\\r\\n'\"'\"', '\"'\"'\\n'\"'\"');f.close();exec(compile(code, __file__, '\"'\"'exec'\"'\"'))' install --record /tmp/pip-record-7ie6sidb/install-record.txt --single-version-externally-managed --compile --install-headers /usr/local/include/python3.7/TA-Lib Check the logs for full command output.\u001b[0m\n"
          ]
        }
      ]
    }
  ]
}