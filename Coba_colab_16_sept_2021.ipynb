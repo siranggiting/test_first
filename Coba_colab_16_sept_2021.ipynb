{
  "nbformat": 4,
  "nbformat_minor": 0,
  "metadata": {
    "colab": {
      "name": "Coba-colab 16-sept-2021.ipynb",
      "provenance": [],
      "authorship_tag": "ABX9TyNuH2CRj20G9XAdH4f4TRDd",
      "include_colab_link": true
    },
    "kernelspec": {
      "name": "python3",
      "display_name": "Python 3"
    },
    "language_info": {
      "name": "python"
    }
  },
  "cells": [
    {
      "cell_type": "markdown",
      "metadata": {
        "id": "view-in-github",
        "colab_type": "text"
      },
      "source": [
        "<a href=\"https://colab.research.google.com/github/siranggiting/test_first/blob/master/Coba_colab_16_sept_2021.ipynb\" target=\"_parent\"><img src=\"https://colab.research.google.com/assets/colab-badge.svg\" alt=\"Open In Colab\"/></a>"
      ]
    },
    {
      "cell_type": "code",
      "metadata": {
        "colab": {
          "base_uri": "https://localhost:8080/"
        },
        "id": "-4w7I02fsooo",
        "outputId": "ca32f9a3-c218-43a3-b358-e2108ed6d49e"
      },
      "source": [
        "url = 'https://anaconda.org/conda-forge/libta-lib/0.4.0/download/linux-64/libta-lib-0.4.0-h516909a_0.tar.bz2'\n",
        "!curl -L $url | tar xj -C /usr/lib/x86_64-linux-gnu/ lib --strip-components=1\n",
        "url = 'https://anaconda.org/conda-forge/ta-lib/0.4.19/download/linux-64/ta-lib-0.4.19-py37ha21ca33_2.tar.bz2'\n",
        "!curl -L $url | tar xj -C /usr/local/lib/python3.7/dist-packages/ lib/python3.7/site-packages/talib --strip-components=3\n",
        "import talib"
      ],
      "execution_count": 5,
      "outputs": [
        {
          "output_type": "stream",
          "name": "stdout",
          "text": [
            "  % Total    % Received % Xferd  Average Speed   Time    Time     Time  Current\n",
            "                                 Dload  Upload   Total   Spent    Left  Speed\n",
            "100  3693    0  3693    0     0  16710      0 --:--:-- --:--:-- --:--:-- 16710\n",
            "100  503k  100  503k    0     0   659k      0 --:--:-- --:--:-- --:--:-- 1796k\n",
            "  % Total    % Received % Xferd  Average Speed   Time    Time     Time  Current\n",
            "                                 Dload  Upload   Total   Spent    Left  Speed\n",
            "100  3669    0  3669    0     0  30575      0 --:--:-- --:--:-- --:--:-- 30575\n",
            "100  406k  100  406k    0     0   727k      0 --:--:-- --:--:-- --:--:-- 5620k\n"
          ]
        }
      ]
    },
    {
      "cell_type": "code",
      "metadata": {
        "id": "nl9odZZ5wb51"
      },
      "source": [
        "import pandas as pd\n",
        "import matplotlib.pyplot as plt\n",
        "import talib\n",
        "import numpy as np\n",
        "from datetime import datetime"
      ],
      "execution_count": 6,
      "outputs": []
    }
  ]
}